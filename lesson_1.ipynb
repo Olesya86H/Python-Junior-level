{
 "cells": [
  {
   "cell_type": "code",
   "execution_count": 1,
   "id": "fa06c6a2",
   "metadata": {},
   "outputs": [],
   "source": [
    "import matplotlib.pyplot as plt\n",
    "import numpy as np\n",
    "import pandas as pd\n",
    "import warnings\n",
    "\n",
    "np.random.seed(0)\n",
    "\n",
    "warnings.filterwarnings('ignore')\n",
    "%matplotlib inline"
   ]
  },
  {
   "cell_type": "markdown",
   "id": "01b54664",
   "metadata": {},
   "source": [
    "Задание 0"
   ]
  },
  {
   "cell_type": "markdown",
   "id": "a87d6f34",
   "metadata": {},
   "source": [
    "Реализуйте класс LinearRegressionSGD c обучением и и применением линейной регрессии, построенной с помощью стохастического градиентного спуска, с заданным интерфейсом."
   ]
  },
  {
   "cell_type": "code",
   "execution_count": 510,
   "id": "9afb520c",
   "metadata": {},
   "outputs": [],
   "source": [
    "from sklearn.base import BaseEstimator\n",
    "\n",
    "class LinearRegressionSGD(BaseEstimator):\n",
    "    def __init__(self, epsilon=1e-4, max_steps=100, w0=None, alpha=1e-4):\n",
    "        \"\"\"\n",
    "        epsilon: разница для нормы изменения весов \n",
    "        max_steps: максимальное количество шагов в градиентном спуске\n",
    "        w0: np.array (d,) - начальные веса\n",
    "        alpha: шаг обучения\n",
    "        \"\"\"\n",
    "        self.epsilon = epsilon\n",
    "        self.max_steps = max_steps\n",
    "        self.w0 = w0\n",
    "        self.alpha = alpha\n",
    "        self.w = None\n",
    "        self.w_history = []\n",
    "    \n",
    "    def fit(self, X, y):\n",
    "        \"\"\"\n",
    "        X: np.array (l, d)\n",
    "        y: np.array (l)\n",
    "        ---\n",
    "        output: self\n",
    "        \"\"\"\n",
    "        l, d = X.shape\n",
    "        \n",
    " \n",
    "        if self.w0 is None:\n",
    "          self.w0 = np.zeros(d)\n",
    " \n",
    "        self.w = self.w0\n",
    " \n",
    "        for step in range(self.max_steps):\n",
    "        ## На каждом шаге градиентного спуска веса необходимо добавлять в w_history\n",
    "          self.w_history.append(self.w)\n",
    "         \n",
    "          w_new = self.w - self.calc_gradient(X, y) + self.alpha #multiplying float on vector is not allowed - commented\n",
    " \n",
    "          if (np.linalg.norm(w_new - self.w) < self.epsilon):\n",
    "            break\n",
    "          \n",
    "          self.w = w_new       \n",
    "        \n",
    "        return self\n",
    "    \n",
    "    def predict(self, X):\n",
    "        \"\"\"\n",
    "        X: np.array (l, d)\n",
    "        ---\n",
    "        output: np.array (l)\n",
    "        \"\"\"\n",
    "        if self.w is None:\n",
    "            raise Exception('Not trained yet')\n",
    "        \n",
    "        l, d = X.shape\n",
    " \n",
    "        y_pred = []\n",
    " \n",
    "        for i in range(l):\n",
    "          y_pred.append(np.dot(X[i], self.w))\n",
    "            \n",
    "        return y_pred\n",
    "    \n",
    "    def calc_gradient(self, X, y):\n",
    "        \"\"\"\n",
    "        X: np.array (l, d)\n",
    "        y: np.array (l)\n",
    "        ---\n",
    "        output: np.array (d)\n",
    "        \"\"\"        \n",
    "        l, d = X.shape\n",
    "        gradient = []\n",
    "        \n",
    "        for j in range(d):            \n",
    "            dQ = 0\n",
    "            for i in range(l):  \n",
    "                #dQ += (1/l) * (np.dot(X[j][i], self.w) - y[i])^2 * (np.dot(X[j][i], self.w) - y[i]) + self.w\n",
    "                #dQ += (2/l) * X[i][j] * (np.dot(X[i], self.w) - len(y)) #y[i] - changed with len(y)\\n\",\n",
    "                dQ += (2/l) * X[i][j] * (X[i] - len(y))\n",
    "            gradient.append(dQ)\n",
    "\n",
    "        return gradient"
   ]
  },
  {
   "cell_type": "markdown",
   "id": "634c42e9",
   "metadata": {},
   "source": [
    "Проверять работу мы будем на имеющемся в sklearn наборе данных boston: в нём нужно по информации о доме предсказать его стоимость."
   ]
  },
  {
   "cell_type": "code",
   "execution_count": 511,
   "id": "469e8e8a",
   "metadata": {},
   "outputs": [],
   "source": [
    "from sklearn.model_selection import train_test_split\n",
    "\n",
    "data = pd.read_csv('boston.csv')\n",
    "data = data.dropna()\n",
    "num_features = ['CRIM','ZN','INDUS','CHAS','NOX','RM','AGE','DIS','RAD','TAX','PTRATIO','B','LSTAT']\n",
    "target = ['MEDV'] #это средняя цена домов, колонка, по которой мы будем прогнозировать результат\n",
    "X = pd.DataFrame(data[num_features])\n",
    "y = data[target]\n",
    "\n",
    "X_train, X_test, y_train, y_test = train_test_split(np.array(X), y, test_size=0.3, random_state=10)"
   ]
  },
  {
   "cell_type": "markdown",
   "id": "1416f91c",
   "metadata": {},
   "source": [
    "Задание 1"
   ]
  },
  {
   "cell_type": "markdown",
   "id": "13038e8c",
   "metadata": {},
   "source": [
    "Метрикой качества в нашей задаче будет MAPE - Mean Absolute Percentage Error. Реализуйте её с заданным интерфейсом и вычислите MAPE(y_test, y_0), где y_0 = (mean(y_test), mean(y_test), ...)"
   ]
  },
  {
   "cell_type": "code",
   "execution_count": 512,
   "id": "7e05e37c",
   "metadata": {},
   "outputs": [],
   "source": [
    "def MAPE(y_true, y_pred):\n",
    "    \"\"\"\n",
    "        y_true: np.array (l)\n",
    "        y_pred: np.array (l)\n",
    "        ---\n",
    "        output: float [0, +inf)\n",
    "    \"\"\"\n",
    "    y_test, pred = np.array(y_true), np.array(y_pred)\n",
    "    mape = np.mean(np.abs((y_true - y_pred) / y_true))\n",
    "    return mape "
   ]
  },
  {
   "cell_type": "code",
   "execution_count": 513,
   "id": "b039685b",
   "metadata": {},
   "outputs": [
    {
     "data": {
      "text/plain": [
       "MEDV    0.374159\n",
       "dtype: float64"
      ]
     },
     "execution_count": 513,
     "metadata": {},
     "output_type": "execute_result"
    }
   ],
   "source": [
    "y_0 = np.mean(y_test)\n",
    "MAPE(y_test, y_0)"
   ]
  },
  {
   "cell_type": "markdown",
   "id": "667faba8",
   "metadata": {},
   "source": [
    "Задание 2"
   ]
  },
  {
   "cell_type": "markdown",
   "id": "1e33883d",
   "metadata": {},
   "source": [
    "Обучите LinearRegressionSGD с базовыми параметрами на тренировочном наборе данных (X_train, y_train), сделайте предсказание на тестовых данных X_test, записав результат в переменную y_pred_sgd и вычислите ошибку MAPE."
   ]
  },
  {
   "cell_type": "code",
   "execution_count": 514,
   "id": "06569035",
   "metadata": {},
   "outputs": [
    {
     "name": "stdout",
     "output_type": "stream",
     "text": [
      "828128707.7602419853\n"
     ]
    }
   ],
   "source": [
    "sgd = LinearRegressionSGD().fit(X_train, y_train)\n",
    "y_pred_sgd = sgd.predict(X_test)\n",
    "y_0 = np.mean(y_pred_sgd)\n",
    "print(\"%.10f\" %(MAPE(y_test, y_0)))"
   ]
  },
  {
   "cell_type": "markdown",
   "id": "1748fef9",
   "metadata": {},
   "source": [
    "Задание 3"
   ]
  },
  {
   "cell_type": "markdown",
   "id": "eb593536",
   "metadata": {},
   "source": [
    "Вычислите веса по точной формуле, используя X_train и y_train; предскажите с их помощью целевую переменную на X_test, записав результат в переменную y_pred_lr и вычислите ошибку MAPE."
   ]
  },
  {
   "cell_type": "code",
   "execution_count": 515,
   "id": "d81eb33c",
   "metadata": {},
   "outputs": [
    {
     "name": "stdout",
     "output_type": "stream",
     "text": [
      "0.3628474880\n"
     ]
    }
   ],
   "source": [
    "from sklearn.linear_model import LinearRegression\n",
    "lr = LinearRegression().fit(X_train, y_train)\n",
    "y_pred_lr = lr.predict(X_test)\n",
    "y_0 = np.mean(y_pred_lr)\n",
    "print(\"%.10f\" %(MAPE(y_test, y_0)))"
   ]
  },
  {
   "cell_type": "markdown",
   "id": "64971389",
   "metadata": {},
   "source": [
    "Бонусное задание по неделе 4"
   ]
  },
  {
   "cell_type": "markdown",
   "id": "91fda9d6",
   "metadata": {},
   "source": [
    "До этого вы релизовывали модели, в которых не было штрафа за величину весов w. Как было рассказано ранее в лекциях, это может привести к неустойчивости модели и переобучению. Чтобы избежать этих эффектов, предлагается добавить к оптимизируемому функционалу L2-норму весов; таким образом, будем решать задачу гребневой регрессии, Ridge:\n",
    "\n",
    "1l(Xw−y)T(Xw−y)+γ||w||2→minw."
   ]
  },
  {
   "cell_type": "markdown",
   "id": "011461dc",
   "metadata": {},
   "source": [
    "Задание 11"
   ]
  },
  {
   "cell_type": "markdown",
   "id": "b3bcc0c7",
   "metadata": {},
   "source": [
    "Реализуйте обучение такой модели в матричном виде (смотрите дополнительные материалы к этой неделе) с помощью стохастического градиентного спуска. Класс должен совпадать по набору реализованных функций с LinearRegressionVectorized, разница будет лишь в параметре $\\gamma$, отвечающем за степень регуляризации. "
   ]
  },
  {
   "cell_type": "code",
   "execution_count": 516,
   "id": "dd35b6ce",
   "metadata": {},
   "outputs": [],
   "source": [
    "from sklearn.base import BaseEstimator\n",
    "\n",
    "class RidgeSGD(BaseEstimator):\n",
    "    def __init__(self, epsilon=1e-4, max_steps=100, w0=None, alpha=1e-4, gamma=1e-4):\n",
    "        \"\"\"\n",
    "        epsilon: разница для нормы изменения весов \n",
    "        max_steps: максимальное количество шагов в градиентном спуске\n",
    "        w0: np.array (d,) - начальные веса\n",
    "        alpha: шаг обучения\n",
    "        \"\"\"\n",
    "        self.epsilon = epsilon\n",
    "        self.max_steps = max_steps\n",
    "        self.w0 = w0\n",
    "        self.alpha = alpha\n",
    "        self.gamma = gamma\n",
    "        self.w = None\n",
    "        self.w_history = []\n",
    "    \n",
    "    def fit(self, X, y):\n",
    "        \"\"\"\n",
    "        X: np.array (l, d)\n",
    "        y: np.array (l)\n",
    "        ---\n",
    "        output: self\n",
    "        \"\"\"\n",
    "        l, d = X.shape\n",
    "        \n",
    " \n",
    "        if self.w0 is None:\n",
    "          self.w0 = np.zeros(d)\n",
    " \n",
    "        self.w = self.w0\n",
    " \n",
    "        for step in range(self.max_steps):\n",
    "        ## На каждом шаге градиентного спуска веса необходимо добавлять в w_history\n",
    "          self.w_history.append(self.w)\n",
    "         \n",
    "          w_new = self.w - self.calc_gradient(X, y) + self.gamma * self.alpha #multiplying float on vector is not allowed - commented\n",
    " \n",
    "          if (np.linalg.norm(w_new - self.w) < self.epsilon):\n",
    "            break\n",
    "          \n",
    "          self.w = w_new       \n",
    "        \n",
    "        return self\n",
    "    \n",
    "    def predict(self, X):\n",
    "        \"\"\"\n",
    "        X: np.array (l, d)\n",
    "        ---\n",
    "        output: np.array (l)\n",
    "        \"\"\"\n",
    "        if self.w is None:\n",
    "            raise Exception('Not trained yet')\n",
    "        \n",
    "        l, d = X.shape\n",
    " \n",
    "        y_pred = []\n",
    " \n",
    "        for i in range(l):\n",
    "          y_pred.append(np.dot(X[i], self.w))\n",
    "            \n",
    "        return y_pred\n",
    "    \n",
    "    def calc_gradient(self, X, y):\n",
    "        \"\"\"\n",
    "        X: np.array (l, d)\n",
    "        y: np.array (l)\n",
    "        ---\n",
    "        output: np.array (d)\n",
    "        \"\"\"        \n",
    "        l, d = X.shape\n",
    "        gradient = []\n",
    "        \n",
    "        for j in range(d):            \n",
    "            dQ = 0\n",
    "            for i in range(l):  \n",
    "                #dQ += (1/l) * (np.dot(X[j][i], self.w) - y[i])^2 * (np.dot(X[j][i], self.w) - y[i]) + self.w\n",
    "                #dQ += (1/l) * X[i][j] * (np.dot(X[i], self.w) - len(y)) #y[i] - changed with len(y)\\n\",\n",
    "                dQ += (1/l) * X[i][j] * (X[i] - len(y))\n",
    "            gradient.append(dQ)\n",
    "\n",
    "        return gradient"
   ]
  },
  {
   "cell_type": "markdown",
   "id": "1ea59c21",
   "metadata": {},
   "source": [
    "Так же, как и в основном задании, обучите модель с базовыми параметрами на тренировочных данных и сделайте прогноз y_pred_ridge. Выведите значение MAPE(y_test, y_pred_ridge)."
   ]
  },
  {
   "cell_type": "code",
   "execution_count": 517,
   "id": "73bf7297",
   "metadata": {},
   "outputs": [
    {
     "name": "stdout",
     "output_type": "stream",
     "text": [
      "414064353.1571703553\n"
     ]
    }
   ],
   "source": [
    "ridge = RidgeSGD().fit(X_train, y_train)\n",
    "y_pred_ridge = ridge.predict(X_test)\n",
    "y_0 = np.mean(y_pred_ridge)\n",
    "print(\"%.10f\" %(MAPE(y_test, y_0)))"
   ]
  }
 ],
 "metadata": {
  "kernelspec": {
   "display_name": "Python 3 (ipykernel)",
   "language": "python",
   "name": "python3"
  },
  "language_info": {
   "codemirror_mode": {
    "name": "ipython",
    "version": 3
   },
   "file_extension": ".py",
   "mimetype": "text/x-python",
   "name": "python",
   "nbconvert_exporter": "python",
   "pygments_lexer": "ipython3",
   "version": "3.11.0"
  }
 },
 "nbformat": 4,
 "nbformat_minor": 5
}
