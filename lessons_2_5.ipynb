{
 "cells": [
  {
   "cell_type": "markdown",
   "id": "bd842540",
   "metadata": {},
   "source": [
    "Задача 1\n",
    "У вас есть два множества, представляющие участников двух разных клубов в школе. Вам нужно определить, кто состоит в обоих клубах, кто состоит только в первом клубе, и кто состоит только во втором клубе.\n",
    "club_a = {'Alice', 'Bob', 'Charlie', 'David'} \n",
    "club_b = {'Charlie', 'David', 'Edward', 'Fiona'}\n",
    "Требования:\n",
    "1.\tСоздайте два множества:\n",
    "o\tclub_a: Множество участников первого клуба.\n",
    "o\tclub_b: Множество участников второго клуба.\n",
    "2.\tРеализуйте функции для выполнения следующих операций:\n",
    "o\tget_common_members(club_a, club_b): Вернуть множество участников, которые состоят в обоих клубах.\n",
    "o\tget_only_club_a_members(club_a, club_b): Вернуть множество участников, которые состоят только в первом клубе.\n"
   ]
  },
  {
   "cell_type": "code",
   "execution_count": 57,
   "id": "8368e1f9",
   "metadata": {},
   "outputs": [],
   "source": [
    "#1 - создаем мн-ва:\n",
    "club_a = {'Alice', 'Bob', 'Charlie', 'David'}\n",
    "club_b = {'Charlie', 'David', 'Edward', 'Fiona'} "
   ]
  },
  {
   "cell_type": "code",
   "execution_count": 58,
   "id": "9a50b859",
   "metadata": {},
   "outputs": [],
   "source": [
    "#2 - вернуть множество участников, которые состоят в обоих клубах:\n",
    "def get_common_members(club_a, club_b):\n",
    "    cmn_mbrs_set = []\n",
    "    for i in club_a:\n",
    "        for j in club_b:\n",
    "            if j == i:\n",
    "                cmn_mbrs_set.append(i)\n",
    "                break\n",
    "    return cmn_mbrs_set"
   ]
  },
  {
   "cell_type": "code",
   "execution_count": 59,
   "id": "c17db5d3",
   "metadata": {},
   "outputs": [],
   "source": [
    "#2 - вернуть множество участников, которые состоят только в первом клубе:\n",
    "def get_only_club_a_members(club_a, club_b):\n",
    "    a_mbrs_set = []\n",
    "    flag_add = False\n",
    "    for i in club_a:\n",
    "        for j in club_b:\n",
    "            if j != i:\n",
    "                flag_add = True\n",
    "            else:\n",
    "                flag_add = False\n",
    "                break\n",
    "        if flag_add == True:\n",
    "            a_mbrs_set.append(i)\n",
    "        flag_add = False\n",
    "    return a_mbrs_set"
   ]
  },
  {
   "cell_type": "code",
   "execution_count": 60,
   "id": "4b66ed6a",
   "metadata": {},
   "outputs": [
    {
     "name": "stdout",
     "output_type": "stream",
     "text": [
      "В обоих клубах состоят: ['David', 'Charlie']\n",
      "Только в первом клубе состоят: ['Alice', 'Bob']\n",
      "Только во втором клубе состоят: ['Fiona', 'Edward']\n"
     ]
    }
   ],
   "source": [
    "print(\"В обоих клубах состоят: {f}\".format(f = get_common_members(club_a, club_b)))\n",
    "print(\"Только в первом клубе состоят: {f}\".format(f = get_only_club_a_members(club_a, club_b)))\n",
    "\n",
    "#вычисляем, кто состоит только во втором клубе:\n",
    "cl_b = []\n",
    "for i in club_b:\n",
    "    if i not in club_a:\n",
    "        cl_b.append(i)\n",
    "        \n",
    "print(\"Только во втором клубе состоят: {f}\".format(f = cl_b))"
   ]
  },
  {
   "cell_type": "markdown",
   "id": "134c07e4",
   "metadata": {},
   "source": [
    "Задача 2\n",
    "Создайте класс HogwartsStudent, который будет использоваться для представления ученика Хогвартса. Класс должен включать следующие атрибуты и методы:\n",
    "Атрибуты:\n",
    "•\tname (строка): имя ученика.\n",
    "•\thouse (строка): факультет ученика.\n",
    "•\tyear (целое число): год обучения ученика.\n",
    "Методы:\n",
    "•\t__init__(self, name, house, year): конструктор, который инициализирует имя, факультет и год обучения ученика.\n",
    "•\tpromote(self): метод для перевода ученика на следующий год обучения.\n",
    "•\tchange_house(self, new_house): метод для перевода ученика на другой факультет.\n",
    "•\t__str__(self): метод для строкового представления объекта ученика, включающего его имя, факультет, год обучения.\n"
   ]
  },
  {
   "cell_type": "code",
   "execution_count": 61,
   "id": "270b8aea",
   "metadata": {},
   "outputs": [],
   "source": [
    "class HogwartsStudent:\n",
    "    def __init__(self, name, house, year): #Метод инициализации\n",
    "        self.name = name\n",
    "        self.house = house\n",
    "        self.year = year\n",
    "\n",
    "    def promote(self): #Метод перевода ученика на след.год\n",
    "        new_year = self.year + 1\n",
    "        self.year = new_year\n",
    "        return self.year\n",
    "    \n",
    "    def change_house(self, new_house): #Метод перевода ученика на др.факультет\n",
    "        self.house = new_house\n",
    "        return self.house\n",
    "    \n",
    "    def str(self): #Метод для строкового представления объекта ученика, включающего его имя, факультет, год обучения\n",
    "        str_obj = \"ФИО: \" + self.name + \", Факультет: \" + self.house + \", Год обучения: \" + str(self.year)\n",
    "        return str_obj"
   ]
  },
  {
   "cell_type": "code",
   "execution_count": 62,
   "id": "19a2fb95",
   "metadata": {},
   "outputs": [
    {
     "name": "stdout",
     "output_type": "stream",
     "text": [
      "Данные ученицы: \n",
      "ФИО: Aisha, Факультет: IT, Год обучения: 1\n",
      "Ученица переведена на следующий год обучения: 2\n",
      "Ученица переведена на другой факультет: Lingua\n",
      "----------------------------\n",
      "Обновленные данные ученицы: \n",
      "ФИО: Aisha, Факультет: Lingua, Год обучения: 2\n"
     ]
    }
   ],
   "source": [
    "student = HogwartsStudent(\"Aisha\", \"IT\", 1) #объект студент\n",
    "print(\"Данные ученицы: \")\n",
    "print(student.str())\n",
    "print(\"Ученица переведена на следующий год обучения: {f}\".format(f = student.promote()))\n",
    "print(\"Ученица переведена на другой факультет: {f}\".format(f = student.change_house(\"Lingua\")))\n",
    "print(\"----------------------------\")\n",
    "print(\"Обновленные данные ученицы: \")\n",
    "print(student.str())"
   ]
  }
 ],
 "metadata": {
  "kernelspec": {
   "display_name": "Python 3 (ipykernel)",
   "language": "python",
   "name": "python3"
  },
  "language_info": {
   "codemirror_mode": {
    "name": "ipython",
    "version": 3
   },
   "file_extension": ".py",
   "mimetype": "text/x-python",
   "name": "python",
   "nbconvert_exporter": "python",
   "pygments_lexer": "ipython3",
   "version": "3.11.0"
  }
 },
 "nbformat": 4,
 "nbformat_minor": 5
}
