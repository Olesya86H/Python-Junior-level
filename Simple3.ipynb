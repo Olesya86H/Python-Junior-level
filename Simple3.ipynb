{
 "cells": [
  {
   "cell_type": "code",
   "execution_count": 34,
   "id": "aa17c6fa",
   "metadata": {},
   "outputs": [
    {
     "name": "stdout",
     "output_type": "stream",
     "text": [
      "123321\n"
     ]
    }
   ],
   "source": [
    "str = input() #ожидаем ввод числа от пользователя с клавиатуры"
   ]
  },
  {
   "cell_type": "code",
   "execution_count": 35,
   "id": "697ec1ae",
   "metadata": {},
   "outputs": [],
   "source": [
    "strarray = [] #объявляем массив, он будет содержать строковые значения"
   ]
  },
  {
   "cell_type": "code",
   "execution_count": 36,
   "id": "69062b77",
   "metadata": {},
   "outputs": [],
   "source": [
    "for a in str: #для каждого символа в веденной строке формируем элемент массива\n",
    "    strarray += a"
   ]
  },
  {
   "cell_type": "code",
   "execution_count": 37,
   "id": "3bc43f88",
   "metadata": {},
   "outputs": [],
   "source": [
    "intarray = [int(item) for item in strarray] #преобразуем строковый массив strarray в целочисленный массив intarray"
   ]
  },
  {
   "cell_type": "code",
   "execution_count": 39,
   "id": "af9fc746",
   "metadata": {},
   "outputs": [
    {
     "name": "stdout",
     "output_type": "stream",
     "text": [
      "[1, 2, 3, 3, 2, 1]\n"
     ]
    }
   ],
   "source": [
    "print(intarray) #проверка - вывод на экран содержимого массива с целыми числами"
   ]
  },
  {
   "cell_type": "code",
   "execution_count": 40,
   "id": "f3bf05be",
   "metadata": {},
   "outputs": [
    {
     "name": "stdout",
     "output_type": "stream",
     "text": [
      "Счастливое\n"
     ]
    }
   ],
   "source": [
    "first_num = 0 #объявляем переменную first_num - в ней будет храниться сумма первых трёх цифр\n",
    "second_num = 0 #объявляем переменную second_num - в ней будет храниться сумма последних трёх цифр\n",
    "i = 0 #i - это счётчик, или переменная, которая будет показывать номер текущей итерации цикла или, другими словами, порядковый номер элемента массива, который мы будем прибавлять либо к первому, либо ко второму числу \n",
    "while i <= len(intarray) - 1: #пока порядковый номер элемента массива intarray (нумерация с нуля) не достиг значения, равного количеству элементов в массиве минус 1\n",
    "    if i <= 2: #т.е. для элементов массива на позициях 0,1,2.\n",
    "        first_num += intarray[i] #прибавляем к первому числу элемент массива на позициях 0,1,2 (intarray[0], intarray[1], intarray[2])\n",
    "    else: #иначе, т.е. когда позиция в массиве - четвёртый элемент массива (для элементов массива на позициях 3,4,5.\n",
    "        second_num += intarray[i] #прибавляем ко второму числу элемент массива на позициях 3,4,5 (intarray[3], intarray[4], intarray[5])\n",
    "    i += 1 #после того, как прибавили элемент массива к первому или второму числу - увеличиваем счётчик i на 1, т.е. переходим к следующей позиции в массиве (другими словами, переходим к следующей итерации цикла)\n",
    "if first_num == second_num: #на эту строку кода программа попадает, когда весь массив разложили: собрали первое и второе число, теперь их сравниваем \n",
    "    print('Счастливое') #если первое число равно второму числу - то изначально введенное пользователем число считается \"Счастливым\"\n",
    "else: #иначе\n",
    "    print('Несчастливое') ##если первое число неравно второму числу - то изначально введенное пользователем число считается \"Несчастливым\"\n",
    "    "
   ]
  },
  {
   "cell_type": "code",
   "execution_count": null,
   "id": "7fcbb434",
   "metadata": {},
   "outputs": [],
   "source": []
  }
 ],
 "metadata": {
  "kernelspec": {
   "display_name": "Python 3 (ipykernel)",
   "language": "python",
   "name": "python3"
  },
  "language_info": {
   "codemirror_mode": {
    "name": "ipython",
    "version": 3
   },
   "file_extension": ".py",
   "mimetype": "text/x-python",
   "name": "python",
   "nbconvert_exporter": "python",
   "pygments_lexer": "ipython3",
   "version": "3.11.0"
  }
 },
 "nbformat": 4,
 "nbformat_minor": 5
}
