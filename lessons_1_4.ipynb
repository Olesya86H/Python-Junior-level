{
 "cells": [
  {
   "cell_type": "markdown",
   "id": "385cdce3",
   "metadata": {},
   "source": [
    "Задание 1. Найти сумму всех элементов списка."
   ]
  },
  {
   "cell_type": "code",
   "execution_count": 1,
   "id": "0cf85f74",
   "metadata": {},
   "outputs": [
    {
     "name": "stdout",
     "output_type": "stream",
     "text": [
      "234\n"
     ]
    }
   ],
   "source": [
    "str = input()"
   ]
  },
  {
   "cell_type": "code",
   "execution_count": 4,
   "id": "e6ff111a",
   "metadata": {},
   "outputs": [
    {
     "name": "stdout",
     "output_type": "stream",
     "text": [
      "Сумма всех элементов списка: 9\n"
     ]
    }
   ],
   "source": [
    "strarray = []\n",
    "for a in str:\n",
    "    strarray += a\n",
    "intarray = [int(item) for item in strarray] \n",
    "i = 0\n",
    "k = 0\n",
    "while i <= len(intarray) - 1:\n",
    "    k += intarray[i]\n",
    "    i += 1\n",
    "print('Сумма всех элементов списка: {f}'.format(f = k))"
   ]
  },
  {
   "cell_type": "markdown",
   "id": "2dcfd2cb",
   "metadata": {},
   "source": [
    "Задание 2. Найти наибольший и наименьший элементы в списке."
   ]
  },
  {
   "cell_type": "code",
   "execution_count": 5,
   "id": "7d34b5d0",
   "metadata": {},
   "outputs": [
    {
     "name": "stdout",
     "output_type": "stream",
     "text": [
      "2324\n"
     ]
    }
   ],
   "source": [
    "str = input()"
   ]
  },
  {
   "cell_type": "code",
   "execution_count": 6,
   "id": "a85a6ec7",
   "metadata": {},
   "outputs": [
    {
     "name": "stdout",
     "output_type": "stream",
     "text": [
      "Минимальный элемент:  2\n",
      "Максимальный элемент:  4\n"
     ]
    }
   ],
   "source": [
    "strarray = []\n",
    "for a in str:\n",
    "    strarray += a\n",
    "intarray = [int(item) for item in strarray] \n",
    "min_x = intarray[0]\n",
    "max_x = intarray[0]\n",
    "i = 1\n",
    "while i <= len(intarray) - 1:\n",
    "    if intarray[i] > max_x:\n",
    "        max_x = intarray[i]\n",
    "    if intarray[i] < min_x:\n",
    "        min_x = intarray[i]\n",
    "    i += 1\n",
    "print('Минимальный элемент: ', min_x)\n",
    "print('Максимальный элемент: ', max_x)"
   ]
  },
  {
   "cell_type": "markdown",
   "id": "56b30779",
   "metadata": {},
   "source": [
    "Задание 3. Посчитать количество определенного элемента в списке."
   ]
  },
  {
   "cell_type": "code",
   "execution_count": 7,
   "id": "9ea265eb",
   "metadata": {},
   "outputs": [
    {
     "name": "stdout",
     "output_type": "stream",
     "text": [
      "2356758\n"
     ]
    }
   ],
   "source": [
    "#вводим последовательность\n",
    "str = input()"
   ]
  },
  {
   "cell_type": "code",
   "execution_count": 8,
   "id": "294edf11",
   "metadata": {},
   "outputs": [
    {
     "name": "stdout",
     "output_type": "stream",
     "text": [
      "5\n"
     ]
    }
   ],
   "source": [
    "#вводим элемент для поиска\n",
    "item = input()"
   ]
  },
  {
   "cell_type": "code",
   "execution_count": 9,
   "id": "bd3035e5",
   "metadata": {},
   "outputs": [
    {
     "name": "stdout",
     "output_type": "stream",
     "text": [
      "Кол-во элементов в списке, соответствующих заданному (5), равно: 2\n"
     ]
    }
   ],
   "source": [
    "i = 0\n",
    "for t in str:\n",
    "    if t == item:\n",
    "        i += 1\n",
    "print('Кол-во элементов в списке, соответствующих заданному ({f1}), равно: {f2}'.format(f1=item, f2=i))"
   ]
  },
  {
   "cell_type": "markdown",
   "id": "d7dca5ef",
   "metadata": {},
   "source": [
    "Задание 4. Удалить все дубликаты из списка."
   ]
  },
  {
   "cell_type": "code",
   "execution_count": 10,
   "id": "19267f3c",
   "metadata": {},
   "outputs": [
    {
     "name": "stdout",
     "output_type": "stream",
     "text": [
      "234\n"
     ]
    }
   ],
   "source": [
    "#вводим последовательность\n",
    "str = input()"
   ]
  },
  {
   "cell_type": "code",
   "execution_count": 11,
   "id": "5eb56687",
   "metadata": {},
   "outputs": [
    {
     "name": "stdout",
     "output_type": "stream",
     "text": [
      "2\n"
     ]
    }
   ],
   "source": [
    "i = 0\n",
    "item = str[i]\n",
    "i = 1\n",
    "str2 = item\n",
    "while i <= len(str) - 1:\n",
    "    if str[i] != item:\n",
    "        str2 ="
   ]
  },
  {
   "cell_type": "code",
   "execution_count": null,
   "id": "5d752660",
   "metadata": {},
   "outputs": [],
   "source": []
  }
 ],
 "metadata": {
  "kernelspec": {
   "display_name": "Python 3 (ipykernel)",
   "language": "python",
   "name": "python3"
  },
  "language_info": {
   "codemirror_mode": {
    "name": "ipython",
    "version": 3
   },
   "file_extension": ".py",
   "mimetype": "text/x-python",
   "name": "python",
   "nbconvert_exporter": "python",
   "pygments_lexer": "ipython3",
   "version": "3.11.0"
  }
 },
 "nbformat": 4,
 "nbformat_minor": 5
}
