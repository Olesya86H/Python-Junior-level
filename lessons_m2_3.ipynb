{
 "cells": [
  {
   "cell_type": "markdown",
   "id": "4f31cd6e",
   "metadata": {},
   "source": [
    "1.Создайте классы для представления геометрических фигур в плоскости: круга, прямоугольника и треугольника. Каждый класс должен иметь методы для вычисления площади и периметра."
   ]
  },
  {
   "cell_type": "code",
   "execution_count": 2,
   "id": "698ebb90",
   "metadata": {},
   "outputs": [],
   "source": [
    "class Circle:\n",
    "    def __init__(self, r): #Метод инициализации\n",
    "        self.r = r   #радиус\n",
    "\n",
    "    def __square__(self, r):\n",
    "        s = r*math.pow(math.pi,2)\n",
    "        return s\n",
    "    \n",
    "    def __perimeter__(self):\n",
    "        l = 2*r*math.pi\n",
    "        return l\n",
    "    \n",
    "class Rectangle:\n",
    "    def __init__(self, a, b): #Метод инициализации\n",
    "        self.a = a #длина\n",
    "        self.b = b #ширина\n",
    "\n",
    "    def __square__(self, a, b):\n",
    "        s = 2*(a+b)\n",
    "        return s\n",
    "    \n",
    "    def __perimeter__(self, a, b):\n",
    "        p = a*b\n",
    "        return p\n",
    "\n",
    "class Triangle:\n",
    "    def __init__(self, a, b, c, h): #Метод инициализации\n",
    "        self.a = a  #Первая боковая сторона\n",
    "        self.b = b  #Вторая боковая сторона\n",
    "        self.c = c  #Основание\n",
    "        self.h = h  #Высота\n",
    "\n",
    "    def __square__(self, c, h):\n",
    "        s = 2*c*h/2\n",
    "        return s\n",
    "    \n",
    "    def __perimeter__(self, a, b, c):\n",
    "        p = a+b+c\n",
    "        return p"
   ]
  },
  {
   "cell_type": "markdown",
   "id": "55ebcca8",
   "metadata": {},
   "source": [
    "2. Спроектируйте класс User, представляющий учетную запись пользователя. Класс должен содержать основные данные о пользователе (имя, электронная почта, пароль) и методы для изменения пароля и вывода информации о пользователе."
   ]
  },
  {
   "cell_type": "code",
   "execution_count": 3,
   "id": "9aa6169b",
   "metadata": {},
   "outputs": [],
   "source": [
    "class User:\n",
    "    def __init__(self, name, email, pwd): #Метод инициализации\n",
    "        self.name = name\n",
    "        self.email = email\n",
    "        self.pwd = pwd\n",
    "\n",
    "    def __chg_pwd__(self):\n",
    "        new_pwd = str(input(\"Введите новый пароль: \"))\n",
    "        self.pwd = new_pwd\n",
    "        return self.pwd\n",
    "    \n",
    "    def __output_info__(self, name, email, pwd):\n",
    "        new_pwd = str(input(\"Введите новый пароль: \"))\n",
    "        self.pwd = new_pwd\n",
    "        print(\"Имя пользователя: {f}\".format(f = self.name))\n",
    "        print(\"Эл.почта пользователя: {f}\".format(f = self.email))\n",
    "        print(\"Пароль пользователя: {f}\".format(f = self.pwd))"
   ]
  },
  {
   "cell_type": "markdown",
   "id": "a8298afc",
   "metadata": {},
   "source": [
    "3. Разработайте классы для представления книг и библиотеки. Класс Book должен содержать информацию о книге (название, автор, год издания), а класс Library должен управлять коллекцией книг, предоставлять методы для добавления, удаления и поиска книг."
   ]
  },
  {
   "cell_type": "code",
   "execution_count": 5,
   "id": "3aa1dc2d",
   "metadata": {},
   "outputs": [],
   "source": [
    "class Book:\n",
    "    def __init__(self, name, author, year): #Метод инициализации\n",
    "        self.name = name\n",
    "        self.author = author\n",
    "        self.year = year\n",
    "\n",
    "class Library:\n",
    "    def __init__(self, a_book_list): #Метод инициализации\n",
    "        self.name = name\n",
    "        self.book_list = a_book_list\n",
    "    def __add_book__(self, a_book_list, a_book): #добавляем книгу\n",
    "        lst = a_book_list[0:0]\n",
    "        for i in range(len(lst)):\n",
    "            if a_book in lst: \n",
    "                continue\n",
    "            lst.append(a_book)\n",
    "        return(lst)\n",
    "    def __del_book__(self, a_book_list, a_book): #удаляем книгу\n",
    "        lst = a_book_list[0:0]\n",
    "        for i in range(len(lst)):\n",
    "            if a_book in lst: \n",
    "                lst.remove(a_book)\n",
    "                continue\n",
    "        return(lst)\n",
    "    def __find_book__(self, a_book_list, a_book): #поиск книги\n",
    "        bk = Book()\n",
    "        lst = a_book_list[0:0]\n",
    "        for i in range(len(lst)):\n",
    "            if a_book in lst: \n",
    "                bk = a_book\n",
    "                continue\n",
    "            else:\n",
    "                bk = None\n",
    "        return(bk)"
   ]
  },
  {
   "cell_type": "markdown",
   "id": "77a0891c",
   "metadata": {},
   "source": [
    "4. Создайте базовый класс Animal, представляющий животное в зоопарке. Этот класс должен содержать основные характеристики животного, такие как имя, возраст и вид. Реализуйте методы для получения информации о животном."
   ]
  },
  {
   "cell_type": "code",
   "execution_count": 7,
   "id": "389ee4f2",
   "metadata": {},
   "outputs": [],
   "source": [
    "class Animal:\n",
    "    def __init__(self, name, age): #Метод инициализации\n",
    "        self.name = name\n",
    "        self.age = age\n",
    "    def __get_name__(self): #получаем информацию об имени\n",
    "        animal_name = self.name\n",
    "        return(animal_name)\n",
    "    def __get_age__(self): #получаем информацию о возрасте\n",
    "        animal_age = self.age\n",
    "        return(animal_age)\n",
    "    def get_kind(self): #получаем информацию о виде\n",
    "        pass"
   ]
  },
  {
   "cell_type": "markdown",
   "id": "36b3d281",
   "metadata": {},
   "source": [
    "На основе класса Animal создайте несколько дочерних классов, представляющих различные виды животных. К примеру, можно создать классы Lion, Elephant, Monkey.\n",
    "\n",
    "У каждого дочернего класса должны быть дополнительные атрибуты, специфичные для его вида, и методы, характерные для данного вида. Например, метод roar() для льва, метод trumpet() для слона, и т.д.\n",
    "\n",
    "Создайте объекты различных видов животных и продемонстрируйте их функциональность, вызывая методы у каждого экземпляра. Покажите, как базовый класс Animal и его дочерние классы используют наследование для представления различных видов животных."
   ]
  },
  {
   "cell_type": "code",
   "execution_count": 10,
   "id": "294dba01",
   "metadata": {},
   "outputs": [
    {
     "name": "stdout",
     "output_type": "stream",
     "text": [
      "RRR!\n",
      "Lion\n",
      "UUU!\n",
      "Elephant\n",
      "UGAGA!\n",
      "Monkey\n"
     ]
    }
   ],
   "source": [
    "class Lion(Animal):\n",
    "    def __init__(self, mane_length): #Метод инициализации, атрибут - длина гривы\n",
    "        self.mane_length = mane_length\n",
    "    def get_kind(self):\n",
    "        return \"Lion\"\n",
    "    def roar(self):\n",
    "        return \"RRR!\"\n",
    "class Elephant(Animal):\n",
    "    def __init__(self, trunk_length): #Метод инициализации, атрибут - длина хобота\n",
    "        self.trunk_length = trunk_length\n",
    "    def get_kind(self):\n",
    "        return \"Elephant\"\n",
    "    def trumpet(self):\n",
    "        return \"UUU!\"  \n",
    "class Monkey(Animal):\n",
    "    def __init__(self, iq_level): #Метод инициализации, атрибут - уровень интеллекта\n",
    "        self.iq_level = iq_level\n",
    "    def get_kind(self):\n",
    "        return \"Monkey\"\n",
    "    def monkey_sounds(self):\n",
    "        return \"UGAGA!\"\n",
    "    \n",
    "def get_animal_kind(animal):\n",
    "    return animal.get_kind()\n",
    "\n",
    "lion = Lion('Leva') #объект лев класса Лев\n",
    "print(lion.roar()) #уникальный метод для дочернего класса\n",
    "print(get_animal_kind(lion)) #наследование\n",
    "\n",
    "elephant = Elephant('Slon') #объект слон класса Слон\n",
    "print(elephant.trumpet()) #уникальный метод для дочернего класса\n",
    "print(get_animal_kind(elephant)) #наследование\n",
    "\n",
    "monkey = Monkey('Obezyana') #объект обезьяна класса Обезьяна\n",
    "print(monkey.monkey_sounds()) #уникальный метод для дочернего класса\n",
    "print(get_animal_kind(monkey)) #наследование"
   ]
  }
 ],
 "metadata": {
  "kernelspec": {
   "display_name": "Python 3 (ipykernel)",
   "language": "python",
   "name": "python3"
  },
  "language_info": {
   "codemirror_mode": {
    "name": "ipython",
    "version": 3
   },
   "file_extension": ".py",
   "mimetype": "text/x-python",
   "name": "python",
   "nbconvert_exporter": "python",
   "pygments_lexer": "ipython3",
   "version": "3.11.0"
  }
 },
 "nbformat": 4,
 "nbformat_minor": 5
}
